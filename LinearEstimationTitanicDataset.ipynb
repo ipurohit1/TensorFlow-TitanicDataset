{
  "nbformat": 4,
  "nbformat_minor": 0,
  "metadata": {
    "colab": {
      "name": "LinearEstimationTitanicDataset.ipynb",
      "provenance": [],
      "collapsed_sections": [],
      "authorship_tag": "ABX9TyPnzyLxAooJlGMqRTRkAWI+"
    },
    "kernelspec": {
      "name": "python3",
      "display_name": "Python 3"
    }
  },
  "cells": [
    {
      "cell_type": "code",
      "metadata": {
        "id": "sIBgrJKsYXL6"
      },
      "source": [
        "%tensorflow_version 2.x  "
      ],
      "execution_count": 1,
      "outputs": []
    },
    {
      "cell_type": "code",
      "metadata": {
        "id": "rUYH5VRVXj2l"
      },
      "source": [
        "import numpy as np \n",
        "import pandas as pd \n",
        "import matplotlib.pyplot as plt \n",
        "from IPython.display import clear_output \n",
        "\n",
        "import tensorflow as tf \n",
        "from tensorflow import feature_column "
      ],
      "execution_count": 2,
      "outputs": []
    },
    {
      "cell_type": "code",
      "metadata": {
        "id": "7svgLCQ3Yk50"
      },
      "source": [
        "# Load data\n",
        "dftrain = pd.read_csv('https://storage.googleapis.com/tf-datasets/titanic/train.csv') # training dataset\n",
        "dfeval = pd.read_csv('https://storage.googleapis.com/tf-datasets/titanic/eval.csv') # testing dataset\n",
        "\n",
        "\n",
        "y_train = dftrain.pop('survived') # pop survived column data from train and eval\n",
        "y_eval = dfeval.pop('survived') "
      ],
      "execution_count": 3,
      "outputs": []
    },
    {
      "cell_type": "code",
      "metadata": {
        "colab": {
          "base_uri": "https://localhost:8080/"
        },
        "id": "mkOciOfLZTt_",
        "outputId": "37ba2dde-d692-4945-9768-9469226ecb56"
      },
      "source": [
        "# Observe and get to know structure and characteristics of data (Not Required to train Model)\n",
        "\n",
        "# dftrain.describe() # prints out stats about data such as mean, std, etc.\n",
        "dftrain.info() #prints out all the columns in data along with data type \n"
      ],
      "execution_count": 4,
      "outputs": [
        {
          "output_type": "stream",
          "text": [
            "<class 'pandas.core.frame.DataFrame'>\n",
            "RangeIndex: 627 entries, 0 to 626\n",
            "Data columns (total 9 columns):\n",
            " #   Column              Non-Null Count  Dtype  \n",
            "---  ------              --------------  -----  \n",
            " 0   sex                 627 non-null    object \n",
            " 1   age                 627 non-null    float64\n",
            " 2   n_siblings_spouses  627 non-null    int64  \n",
            " 3   parch               627 non-null    int64  \n",
            " 4   fare                627 non-null    float64\n",
            " 5   class               627 non-null    object \n",
            " 6   deck                627 non-null    object \n",
            " 7   embark_town         627 non-null    object \n",
            " 8   alone               627 non-null    object \n",
            "dtypes: float64(2), int64(2), object(5)\n",
            "memory usage: 44.2+ KB\n"
          ],
          "name": "stdout"
        }
      ]
    },
    {
      "cell_type": "code",
      "metadata": {
        "colab": {
          "base_uri": "https://localhost:8080/",
          "height": 368
        },
        "id": "LEH9Q7tMxCaw",
        "outputId": "d817b402-2dd1-42cd-97ed-48255f6eed30"
      },
      "source": [
        "# Observe and get to know structure and characteristics of data (Not Required to train Model)\n",
        "dftrain.hist(bins=20)"
      ],
      "execution_count": 5,
      "outputs": [
        {
          "output_type": "execute_result",
          "data": {
            "text/plain": [
              "array([[<matplotlib.axes._subplots.AxesSubplot object at 0x7fd35f3f9160>,\n",
              "        <matplotlib.axes._subplots.AxesSubplot object at 0x7fd326115d68>],\n",
              "       [<matplotlib.axes._subplots.AxesSubplot object at 0x7fd3253fca58>,\n",
              "        <matplotlib.axes._subplots.AxesSubplot object at 0x7fd3253dfcc0>]],\n",
              "      dtype=object)"
            ]
          },
          "metadata": {
            "tags": []
          },
          "execution_count": 5
        },
        {
          "output_type": "display_data",
          "data": {
            "image/png": "[encoded data removed]",
            "text/plain": [
              "<Figure size 432x288 with 4 Axes>"
            ]
          },
          "metadata": {
            "tags": [],
            "needs_background": "light"
          }
        }
      ]
    },
    {
      "cell_type": "code",
      "metadata": {
        "id": "G73ICfeRbem-"
      },
      "source": [
        "# Observe and get to know structure and characteristics of data (Not Required to train Model)\n",
        "dftrain['sex'].value_counts().plot(kind='bar')\n"
      ],
      "execution_count": null,
      "outputs": []
    },
    {
      "cell_type": "code",
      "metadata": {
        "id": "SzqtXBspbhWY"
      },
      "source": [
        "# Observe and get to know structure and characteristics of data (Not Required to train Model)\n",
        "dftrain['class'].value_counts().plot(kind='bar')"
      ],
      "execution_count": null,
      "outputs": []
    },
    {
      "cell_type": "code",
      "metadata": {
        "id": "R7XwJyYBmrT4"
      },
      "source": [
        "# setup features for model \n",
        "CATEGORICAL_COLUMNS = ['sex', 'class', 'deck', 'embark_town', 'alone']\n",
        "NUMERICAL_COLUMNS = ['age', 'fare', 'n_siblings_spouses', 'parch']\n",
        "\n",
        "feature_columns = [] \n",
        "\n",
        "# iterate through categorical columns\n",
        "for feature_name in CATEGORICAL_COLUMNS: \n",
        "    vocabulary = dftrain[feature_name].unique() # get all the unique values for each category \n",
        "    feature = tf.feature_column.categorical_column_with_vocabulary_list(feature_name, vocabulary) # creates feature for a category given vocab \n",
        "    feature_columns.append(feature) \n",
        "\n",
        "# iterate through numerical columns \n",
        "for feature_name in NUMERICAL_COLUMNS: \n",
        "    feature = tf.feature_column.numeric_column(feature_name, dtype = tf.float32) # create a feature with float value\n",
        "    feature_columns.append(feature) \n",
        "\n",
        "print(feature_columns)"
      ],
      "execution_count": null,
      "outputs": []
    },
    {
      "cell_type": "code",
      "metadata": {
        "id": "sCJFUldVh8or"
      },
      "source": [
        "# Add crossed feature columns \n",
        "\n",
        "#siblings_spouses_x_gender = tf.feature_column.crossed_column(['n_siblings_spouses', 'sex'], hash_bucket_size=100)\n",
        "age_x_gender = tf.feature_column.crossed_column(['age', 'sex'], hash_bucket_size=100)\n",
        "class_x_gender = tf.feature_column.crossed_column(['class', 'sex'], hash_bucket_size = 100)\n",
        "age_x_class = tf.feature_column.crossed_column(['age', 'class'], hash_bucket_size=100)\n",
        "\n",
        "crossed_feature_columns = [age_x_gender, class_x_gender, age_x_class]"
      ],
      "execution_count": 9,
      "outputs": []
    },
    {
      "cell_type": "code",
      "metadata": {
        "id": "Vyz_JV8Bne9x"
      },
      "source": [
        "def make_input_fn(data_df, label_df, num_epochs=10, shuffle=True, batch_size=32):\n",
        "  def input_function():  # Nested function \n",
        "    ds = tf.data.Dataset.from_tensor_slices((dict(data_df), label_df))  # create tf.data.Dataset object with data and its label\n",
        "    if shuffle:\n",
        "      ds = ds.shuffle(1000)  # randomize order of data\n",
        "    ds = ds.batch(batch_size).repeat(num_epochs)  # split dataset into batches of 32 and repeat process for number of epochs\n",
        "    return ds  \n",
        "  return input_function  "
      ],
      "execution_count": 10,
      "outputs": []
    },
    {
      "cell_type": "code",
      "metadata": {
        "id": "s9ctWhYGXIAO"
      },
      "source": [
        "# Run this to find the optimal number of epochs \n",
        "epochs=[50,100,150,200,250] #,275,300,350,400,500,600,700]\n",
        "result_list=[]\n",
        "max_epoch_accuracy = None, 0 \n",
        "\n",
        "for epoch in epochs:\n",
        "    train_input_fn = make_input_fn(dftrain,y_train,num_epochs=epoch)\n",
        "    eval_input_fn = make_input_fn(dfeval,y_eval,num_epochs=1,shuffle=False)\n",
        "    linear_est = tf.estimator.LinearClassifier(feature_columns= feature_columns+crossed_feature_columns)\n",
        "    linear_est.train(train_input_fn)\n",
        "    result = linear_est.evaluate(eval_input_fn)\n",
        "\n",
        "    if result['accuracy'] > max_epoch_accuracy[1]: \n",
        "      max_epoch_accuracy = epoch, result['accuracy']\n",
        "\n",
        "    result_list.append(result)\n",
        "\n",
        "for i in range(len(epochs)):\n",
        "      print(\"epoch:{},accuracy:{}\".format(epochs[i],result_list[i]))\n",
        "\n",
        "print('Number of epochs that yields highest accuracy, highest accuracy: ', max_epoch_accuracy)"
      ],
      "execution_count": null,
      "outputs": []
    },
    {
      "cell_type": "code",
      "metadata": {
        "id": "tmdbxDZsr2k2"
      },
      "source": [
        " "
      ],
      "execution_count": 13,
      "outputs": []
    },
    {
      "cell_type": "code",
      "metadata": {
        "id": "fGz0Sbho4dxH",
        "colab": {
          "base_uri": "https://localhost:8080/",
          "height": 475
        },
        "outputId": "54942c82-fb48-4cf0-e03a-bb14c461969e"
      },
      "source": [
        "predictions = list(linear_est.predict(eval_input_fn)) # should be an object containing probabilities, class_ids...\n",
        "print(predictions[0]['probabilities'][1])\n",
        "probs = pd.Series([pred['probabilities'][1] for pred in predictions])\n",
        "probs.plot(kind='hist', bins=20, title='predicted probabilities') # prints the predicted probabilties of survival and their frequency within the data set \n"
      ],
      "execution_count": 14,
      "outputs": [
        {
          "output_type": "stream",
          "text": [
            "INFO:tensorflow:Calling model_fn.\n"
          ],
          "name": "stdout"
        },
        {
          "output_type": "stream",
          "text": [
            "/usr/local/lib/python3.6/dist-packages/tensorflow/python/keras/engine/base_layer_v1.py:1727: UserWarning: `layer.add_variable` is deprecated and will be removed in a future version. Please use `layer.add_weight` method instead.\n",
            "  warnings.warn('`layer.add_variable` is deprecated and '\n"
          ],
          "name": "stderr"
        },
        {
          "output_type": "stream",
          "text": [
            "INFO:tensorflow:Done calling model_fn.\n",
            "INFO:tensorflow:Graph was finalized.\n",
            "INFO:tensorflow:Restoring parameters from /tmp/tmpxrwp8rj9/model.ckpt-5000\n",
            "INFO:tensorflow:Running local_init_op.\n",
            "INFO:tensorflow:Done running local_init_op.\n",
            "0.08411067\n"
          ],
          "name": "stdout"
        },
        {
          "output_type": "execute_result",
          "data": {
            "text/plain": [
              "<matplotlib.axes._subplots.AxesSubplot at 0x7fd322999940>"
            ]
          },
          "metadata": {
            "tags": []
          },
          "execution_count": 14
        },
        {
          "output_type": "display_data",
          "data": {
            "image/png": "[encoded data removed]",
            "text/plain": [
              "<Figure size 432x288 with 1 Axes>"
            ]
          },
          "metadata": {
            "tags": [],
            "needs_background": "light"
          }
        }
      ]
    }
  ]
}